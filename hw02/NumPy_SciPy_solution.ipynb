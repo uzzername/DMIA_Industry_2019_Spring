{
 "cells": [
  {
   "cell_type": "markdown",
   "metadata": {},
   "source": [
    "# NumPy  SciPy"
   ]
  },
  {
   "cell_type": "code",
   "execution_count": 1,
   "metadata": {
    "collapsed": true
   },
   "outputs": [],
   "source": [
    "import numpy as np"
   ]
  },
  {
   "cell_type": "markdown",
   "metadata": {},
   "source": [
    "## Задание 1 ★★☆"
   ]
  },
  {
   "cell_type": "markdown",
   "metadata": {},
   "source": [
    "Разбейте массив на убывающие подмассивы.  \n",
    "Подсказка: np.diff()  \n",
    "Используйте библиотеку `numpy`, не используйте циклы."
   ]
  },
  {
   "cell_type": "code",
   "execution_count": 2,
   "metadata": {
    "collapsed": true
   },
   "outputs": [],
   "source": [
    "def function_1(arr):\n",
    "    return np.split(arr, np.where(np.diff(arr) >= 0)[0] + 1)"
   ]
  },
  {
   "cell_type": "markdown",
   "metadata": {},
   "source": [
    "Пояснения"
   ]
  },
  {
   "cell_type": "code",
   "execution_count": 3,
   "metadata": {
    "collapsed": true
   },
   "outputs": [],
   "source": [
    "arr = [3, 2, 1, 4, 5, 2, 0, 2, 2, 4, 1]"
   ]
  },
  {
   "cell_type": "markdown",
   "metadata": {},
   "source": [
    "np.diff(arr) возвращает массив, элемент которого - это разница между следующим и предыдущим элементом arr:"
   ]
  },
  {
   "cell_type": "code",
   "execution_count": 4,
   "metadata": {},
   "outputs": [
    {
     "data": {
      "text/plain": [
       "array([-1, -1,  3,  1, -3, -2,  2,  0,  2, -3])"
      ]
     },
     "execution_count": 4,
     "metadata": {},
     "output_type": "execute_result"
    }
   ],
   "source": [
    "np.diff(arr)"
   ]
  },
  {
   "cell_type": "markdown",
   "metadata": {},
   "source": [
    "Если все значения отрицательные значит массив убывает. Найдем позицию элементов, на которых заканчивается убывающая последовательность с помощью `np.diff`:"
   ]
  },
  {
   "cell_type": "code",
   "execution_count": 5,
   "metadata": {},
   "outputs": [
    {
     "data": {
      "text/plain": [
       "array([2, 3, 6, 7, 8])"
      ]
     },
     "execution_count": 5,
     "metadata": {},
     "output_type": "execute_result"
    }
   ],
   "source": [
    "np.where(np.diff(arr) >= 0)[0]"
   ]
  },
  {
   "cell_type": "markdown",
   "metadata": {},
   "source": [
    "Теперь просто разделим массив по элементам следующим за найденными с помощью `np.split`:"
   ]
  },
  {
   "cell_type": "code",
   "execution_count": 6,
   "metadata": {},
   "outputs": [
    {
     "data": {
      "text/plain": [
       "[array([3, 2, 1]),\n",
       " array([4]),\n",
       " array([5, 2, 0]),\n",
       " array([2]),\n",
       " array([2]),\n",
       " array([4, 1])]"
      ]
     },
     "execution_count": 6,
     "metadata": {},
     "output_type": "execute_result"
    }
   ],
   "source": [
    "np.split(arr, np.where(np.diff(arr) >= 0)[0] + 1)"
   ]
  },
  {
   "cell_type": "markdown",
   "metadata": {},
   "source": [
    "Проверка"
   ]
  },
  {
   "cell_type": "code",
   "execution_count": 7,
   "metadata": {},
   "outputs": [
    {
     "data": {
      "text/plain": [
       "[array([3, 2, 1]), array([4]), array([5, 2, 0]), array([2]), array([4, 1])]"
      ]
     },
     "execution_count": 7,
     "metadata": {},
     "output_type": "execute_result"
    }
   ],
   "source": [
    "function_1([3, 2, 1, 4, 5, 2, 0, 2, 4, 1])"
   ]
  },
  {
   "cell_type": "code",
   "execution_count": 8,
   "metadata": {},
   "outputs": [
    {
     "data": {
      "text/plain": [
       "True"
      ]
     },
     "execution_count": 8,
     "metadata": {},
     "output_type": "execute_result"
    }
   ],
   "source": [
    "len(function_1([3, 2, 1, 4, 5, 2, 0, 2, 4, 1])) == 5"
   ]
  },
  {
   "cell_type": "code",
   "execution_count": 9,
   "metadata": {},
   "outputs": [
    {
     "data": {
      "text/plain": [
       "True"
      ]
     },
     "execution_count": 9,
     "metadata": {},
     "output_type": "execute_result"
    }
   ],
   "source": [
    "np.random.seed(42)\n",
    "len(function_1(np.random.randint(-10, 10, size=20))) == 9"
   ]
  },
  {
   "cell_type": "code",
   "execution_count": 10,
   "metadata": {},
   "outputs": [
    {
     "data": {
      "text/plain": [
       "True"
      ]
     },
     "execution_count": 10,
     "metadata": {},
     "output_type": "execute_result"
    }
   ],
   "source": [
    "np.random.seed(42)\n",
    "len(function_1(np.random.randint(-10, 100, size=10))) == 4"
   ]
  },
  {
   "cell_type": "markdown",
   "metadata": {},
   "source": [
    "Значение для формы"
   ]
  },
  {
   "cell_type": "code",
   "execution_count": 11,
   "metadata": {},
   "outputs": [
    {
     "name": "stdout",
     "output_type": "stream",
     "text": [
      "505\n"
     ]
    }
   ],
   "source": [
    "np.random.seed(21)\n",
    "a = np.random.uniform(0, 3000, size=1000)\n",
    "print(len(function_1(a)))"
   ]
  },
  {
   "cell_type": "markdown",
   "metadata": {},
   "source": [
    "## Задание 2 ★★☆"
   ]
  },
  {
   "cell_type": "markdown",
   "metadata": {},
   "source": [
    "Дан массив arr, необходимо найти среднее значение внутри групп, группа определена массивом g. Например, для  \n",
    "`arr = [4, 2, 1, 5, 2, 5, 1, 3]` и   \n",
    "`g =   [0, 1, 1, 0, 1, 0, 1, 0]` (4 относится к группе 0, 2 к группе 1 и т. д.)   \n",
    "Средние по группам: `[4.25, 1.5]`  \n",
    "Подсказка: `np.bincount()`   \n",
    "Используйте библиотеку `numpy`, не используйте циклы."
   ]
  },
  {
   "cell_type": "code",
   "execution_count": 12,
   "metadata": {
    "collapsed": true
   },
   "outputs": [],
   "source": [
    "def function_2(arr, g):\n",
    "    return np.bincount(g, weights=arr) / np.bincount(g)"
   ]
  },
  {
   "cell_type": "markdown",
   "metadata": {},
   "source": [
    "Проверочный код"
   ]
  },
  {
   "cell_type": "code",
   "execution_count": 13,
   "metadata": {},
   "outputs": [
    {
     "data": {
      "text/plain": [
       "True"
      ]
     },
     "execution_count": 13,
     "metadata": {},
     "output_type": "execute_result"
    }
   ],
   "source": [
    "all(function_2(np.array([4, 2, 1, 5, 2, 5, 1, 3]), np.array([0, 1, 1, 0, 1, 0, 1, 0])) == [4.25, 1.5])"
   ]
  },
  {
   "cell_type": "code",
   "execution_count": 14,
   "metadata": {},
   "outputs": [
    {
     "data": {
      "text/plain": [
       "True"
      ]
     },
     "execution_count": 14,
     "metadata": {},
     "output_type": "execute_result"
    }
   ],
   "source": [
    "np.random.seed(42)\n",
    "all(function_2(np.random.randint(0, 25, size=10), np.random.randint(0, 3, size=10)) == [12., 15.2, 10.])"
   ]
  },
  {
   "cell_type": "code",
   "execution_count": 15,
   "metadata": {},
   "outputs": [
    {
     "data": {
      "text/plain": [
       "True"
      ]
     },
     "execution_count": 15,
     "metadata": {},
     "output_type": "execute_result"
    }
   ],
   "source": [
    "np.random.seed(42)\n",
    "all(function_2(np.random.randint(0, 100, size=10), np.random.randint(0, 4, size=10)) == [89., 78., 20., 54.])"
   ]
  },
  {
   "cell_type": "markdown",
   "metadata": {},
   "source": [
    "Значение для формы"
   ]
  },
  {
   "cell_type": "code",
   "execution_count": 16,
   "metadata": {},
   "outputs": [
    {
     "name": "stdout",
     "output_type": "stream",
     "text": [
      "30021.8043\n"
     ]
    }
   ],
   "source": [
    "np.random.seed(21)\n",
    "a = np.random.uniform(0, 3000, size=1000)\n",
    "g = np.random.randint(0, 20, 1000)\n",
    "print(np.round(function_2(a, g).sum(), 4))"
   ]
  },
  {
   "cell_type": "markdown",
   "metadata": {},
   "source": [
    "## Задание 3 ★★★"
   ]
  },
  {
   "cell_type": "markdown",
   "metadata": {},
   "source": [
    "Предположим нам даны две выборки-матрицы: обучающая X_train (размер l1 x n) и тестовая X_test (размер l2 x n), каждая строка в матрице - это вектор, описывающий объект в n-мерном пространстве. Допустим, что в ходе некоторой задачи потребовалось вычислить расстояние между векторами из тестовой и обучающей выборки. То есть для каждой строки-вектора из тестовой выборки нужно найти расстояние до каждого вектора из обучающей, таким образом мы получим матрицу dist размера l1 x l2.   \n",
    "\n",
    "В этом задании необходимо получить матрицу расстояний dist, **не используя циклы**.\n",
    "Для начала, попробуйте это сделать через два цикла и сравните эффективность с конечной реализацией через numpy.  "
   ]
  },
  {
   "cell_type": "markdown",
   "metadata": {},
   "source": [
    "Пояснение"
   ]
  },
  {
   "cell_type": "markdown",
   "metadata": {},
   "source": [
    "Пусть даны две матрицы:  \n",
    "\n",
    "  \n",
    "$X_{train} = \\begin{pmatrix}\n",
    "a_{11}&a_{12}&\\cdots &a_{1n}\\\\a_{21}&a_{22}&\\cdots &a_{2p}\\\\\n",
    "\\vdots &\\vdots &\\ddots &\\vdots \\\\\n",
    "a_{n1}&a_{n2}&\\cdots &a_{np}\n",
    "\\end{pmatrix} =\n",
    "\\begin{pmatrix}\n",
    "a_{1}\\\\\n",
    "\\vdots \\\\\n",
    "a_{n}\n",
    "\\end{pmatrix}\n",
    "\\ \\\n",
    "X_{test} = \\begin{pmatrix}\n",
    "b_{11}&b_{12}&\\cdots &b_{1n}\\\\b_{21}&b_{22}&\\cdots &b_{2p}\\\\\n",
    "\\vdots &\\vdots &\\ddots &\\vdots \\\\\n",
    "b_{m1}&b_{m2}&\\cdots &b_{mp}\n",
    "\\end{pmatrix}\n",
    "=\n",
    "\\begin{pmatrix}\n",
    "b_{1}\\\\\n",
    "\\vdots \\\\\n",
    "b_{n}\n",
    "\\end{pmatrix}\n",
    "$  \n",
    "  \n",
    "  \n",
    "Здесь   \n",
    "$a_i$ - вектор-строка матрицы $X_{train}$ из $p$ компонент, $i$ от 1 до n  \n",
    "$b_k$ - вектор-строка матрицы $X_{test}$ из $p$ компонент, $k$ от 1 до m"
   ]
  },
  {
   "cell_type": "markdown",
   "metadata": {},
   "source": [
    "Тогда требуемая матрица  \n",
    "  \n",
    "$$\n",
    "dist = \n",
    "\\begin{pmatrix}\n",
    "d_{11}&d_{12}&\\cdots &d_{1m}\\\\d_{21}&d_{22}&\\cdots &d_{2m}\\\\\n",
    "\\vdots &\\vdots &\\ddots &\\vdots \\\\\n",
    "d_{n1}&d_{n2}&\\cdots &d_{nm}\n",
    "\\end{pmatrix} \n",
    "$$  \n",
    "  \n",
    "Где  \n",
    "$d_{ik}$ - расстояние от $a_i$ до $b_k$  \n",
    "$d_{ik} = |a_i - b_k| = \\sqrt{(a_{i1} - b_{k1})^2 + \\dots + (a_{ij} - b_{kj})^2  + \\dots (a_{ip} - b_{kp})^2 }$\n",
    "   \n",
    "Раскроем скобки:  \n",
    "\n",
    "$d_{ik}= \\sqrt{a_{i1}^2 - 2 a_{i1}b_{k1} + b_{k1}^2 + \\dots + a_{ij}^2 - 2 a_{ij}b_{kj} +  b_{kj}^2  + \\dots + a_{ip}^2 - 2 a_{ip}b_{kp} + b_{kp}^2 }$  \n",
    "Сгруппируем\n",
    "\n",
    "$d_{ik}= \\sqrt{(a_{i1}^2 + \\dots + a_{ij}^2 + \\dots+ a_{ip}^2) - 2 (a_{i1}b_{k1} + \\dots  + a_{ij}b_{kj} + \\dots + a_{ip}b_{kp})+ (b_{k1}^2 + \\dots + b_{kj}^2  \\dots + b_{kp}^2) }$\n",
    "\n",
    "$$d_{ik}= \\sqrt{\\sum_{j=1}^p{a_{ij}^2} - 2 \\langle a_i, b_k\\rangle + \\sum_{j=1}^p{b_{kj}^2} }$$\n",
    "\n",
    "$$dist^2 = \n",
    "\\begin{pmatrix}\n",
    "\\sum_{j=1}^p{a_{1j}^2}\\\\\n",
    "\\vdots \\\\\n",
    "\\sum_{j=1}^p{a_{nj}^2}\n",
    "\\end{pmatrix} \n",
    " -2\n",
    "\\begin{pmatrix}\n",
    "\\langle a_1, b_1\\rangle&\\langle a_1, b_2\\rangle&\\cdots &\\langle a_1, b_m\\rangle\\\\\n",
    "\\langle a_2, b_1\\rangle&\\langle a_2, b_2\\rangle&\\cdots &\\langle a_2, b_m\\rangle\\\\\n",
    "\\vdots &\\vdots &\\ddots &\\vdots \\\\\n",
    "\\langle a_n, b_1\\rangle&\\langle a_n, b_2\\rangle&\\cdots &\\langle a_n, b_m\\rangle\\\\\n",
    "\\end{pmatrix}\n",
    "+\n",
    "\\begin{pmatrix}\n",
    "\\sum_{j=1}^p{b_{1j}^2}\\\\\n",
    "\\vdots \\\\\n",
    "\\sum_{j=1}^p{b_{nj}^2}\n",
    "\\end{pmatrix}^T\n",
    "$$"
   ]
  },
  {
   "cell_type": "code",
   "execution_count": 17,
   "metadata": {
    "collapsed": true
   },
   "outputs": [],
   "source": [
    "def function_3(X_train, X_test):\n",
    "    dists = np.sum(X_test**2, axis=1)[:,np.newaxis] - 2* (X_test @ X_train.T) + np.sum(X_train**2, axis=1)\n",
    "    return np.sqrt(dists)"
   ]
  },
  {
   "cell_type": "markdown",
   "metadata": {},
   "source": [
    "Значение для формы"
   ]
  },
  {
   "cell_type": "code",
   "execution_count": 18,
   "metadata": {},
   "outputs": [
    {
     "name": "stdout",
     "output_type": "stream",
     "text": [
      "1341747083.8534\n",
      "CPU times: user 56.6 s, sys: 3.82 s, total: 1min\n",
      "Wall time: 19.8 s\n"
     ]
    }
   ],
   "source": [
    "%%time\n",
    "np.random.seed(42)\n",
    "X_train, X_test = np.random.rand(60000, 3000), np.random.rand(1000, 3000)\n",
    "dist = function_3(X_train, X_test)\n",
    "print(np.round(dist.sum(), 4))"
   ]
  },
  {
   "cell_type": "markdown",
   "metadata": {},
   "source": [
    "## Задание 4 ★☆☆"
   ]
  },
  {
   "cell_type": "markdown",
   "metadata": {
    "collapsed": true
   },
   "source": [
    "Реализуйте функцию вычисляющую приближенную матрицу $X_k$  для матрицы $X$ заданного ранга $k$ по норме Фробениуса.   \n",
    "Подсказка:   \n",
    "см. семнар SciPy  \n",
    "scipy.linalg.svd  "
   ]
  },
  {
   "cell_type": "code",
   "execution_count": 19,
   "metadata": {
    "collapsed": true
   },
   "outputs": [],
   "source": [
    "from scipy.linalg import svd\n",
    "import scipy"
   ]
  },
  {
   "cell_type": "code",
   "execution_count": 20,
   "metadata": {
    "collapsed": true
   },
   "outputs": [],
   "source": [
    "def function_4(X, k):\n",
    "    u, s, v = svd(X)\n",
    "    return u[:,:k] @ np.diag(s[:k]) @ v[:k,:]"
   ]
  },
  {
   "cell_type": "markdown",
   "metadata": {},
   "source": [
    "Проверка"
   ]
  },
  {
   "cell_type": "code",
   "execution_count": 21,
   "metadata": {},
   "outputs": [
    {
     "data": {
      "text/plain": [
       "True"
      ]
     },
     "execution_count": 21,
     "metadata": {},
     "output_type": "execute_result"
    }
   ],
   "source": [
    "np.random.seed(42)\n",
    "X = np.random.randint(0, 10, size=(4, 5))\n",
    "X_k = function_4(X, 3)\n",
    "(scipy.linalg.norm(X - X_k) < 2 and np.linalg.matrix_rank(X_k) == 3)"
   ]
  },
  {
   "cell_type": "code",
   "execution_count": 22,
   "metadata": {},
   "outputs": [
    {
     "data": {
      "text/plain": [
       "True"
      ]
     },
     "execution_count": 22,
     "metadata": {},
     "output_type": "execute_result"
    }
   ],
   "source": [
    "np.random.seed(42)\n",
    "X = np.random.randint(0, 10, size=(4, 5))\n",
    "X_k = function_4(X, 4)\n",
    "(scipy.linalg.norm(X - X_k) < 1e-10 and np.linalg.matrix_rank(X_k) == 4)"
   ]
  },
  {
   "cell_type": "markdown",
   "metadata": {
    "collapsed": true
   },
   "source": [
    "Значение для формы"
   ]
  },
  {
   "cell_type": "code",
   "execution_count": 23,
   "metadata": {},
   "outputs": [
    {
     "name": "stdout",
     "output_type": "stream",
     "text": [
      "7279.84\n"
     ]
    }
   ],
   "source": [
    "np.random.seed(42)\n",
    "X = np.random.randint(0, 10, size=(100, 150))\n",
    "X_k = function_4(X, 40)\n",
    "print(np.round(scipy.linalg.norm(X - X_k), 3) * np.linalg.matrix_rank(X_k))"
   ]
  },
  {
   "cell_type": "markdown",
   "metadata": {},
   "source": [
    "## Задание 5 ★★☆"
   ]
  },
  {
   "cell_type": "markdown",
   "metadata": {
    "collapsed": true
   },
   "source": [
    "Найдите тангенс угла наклона прямой, такой что максимальное расстояние от точек $X$ до прямой минимально. Cчитайте, что прямая проходит через начало координат."
   ]
  },
  {
   "cell_type": "code",
   "execution_count": 24,
   "metadata": {
    "collapsed": true
   },
   "outputs": [],
   "source": [
    "from sklearn.datasets import load_breast_cancer\n",
    "from scipy import optimize \n",
    "\n",
    "data = load_breast_cancer()\n",
    "X = data.data[:, :2]"
   ]
  },
  {
   "cell_type": "code",
   "execution_count": 25,
   "metadata": {
    "collapsed": true
   },
   "outputs": [],
   "source": [
    "def function_5(points):\n",
    "    # TODO\n",
    "    def distination(k, point):\n",
    "        x = point[:, 0]\n",
    "        y = point[:, 1]\n",
    "        tmp = (x + k * y) / (k ** 2 + 1)\n",
    "        return (tmp - x) ** 2 + (k * tmp - y) ** 2\n",
    "    \n",
    "    return optimize.minimize(lambda x: distination(x, X).max(), x0=1)['x'][0]"
   ]
  },
  {
   "cell_type": "markdown",
   "metadata": {},
   "source": [
    "Значение для формы"
   ]
  },
  {
   "cell_type": "code",
   "execution_count": 26,
   "metadata": {},
   "outputs": [
    {
     "name": "stdout",
     "output_type": "stream",
     "text": [
      "1.329\n"
     ]
    }
   ],
   "source": [
    "print(round(function_5(X), 3))"
   ]
  },
  {
   "cell_type": "markdown",
   "metadata": {},
   "source": [
    "Визуализация"
   ]
  },
  {
   "cell_type": "code",
   "execution_count": 27,
   "metadata": {
    "collapsed": true
   },
   "outputs": [],
   "source": [
    "import matplotlib.pyplot as plt\n",
    "%matplotlib inline"
   ]
  },
  {
   "cell_type": "code",
   "execution_count": 28,
   "metadata": {
    "collapsed": true
   },
   "outputs": [],
   "source": [
    "k = function_5(X)"
   ]
  },
  {
   "cell_type": "code",
   "execution_count": 29,
   "metadata": {
    "collapsed": true
   },
   "outputs": [],
   "source": [
    "x = np.linspace(0, 30, 100)"
   ]
  },
  {
   "cell_type": "code",
   "execution_count": 30,
   "metadata": {},
   "outputs": [
    {
     "data": {
      "image/png": "[encoded data removed]",
      "text/plain": [
       "<Figure size 432x288 with 1 Axes>"
      ]
     },
     "metadata": {
      "needs_background": "light"
     },
     "output_type": "display_data"
    }
   ],
   "source": [
    "plt.scatter(X[:, 0], X[:, 1]);\n",
    "plt.plot(x, k * x, color='r')\n",
    "plt.grid(True)"
   ]
  }
 ],
 "metadata": {
  "kernelspec": {
   "display_name": "industry",
   "language": "python",
   "name": "industry"
  },
  "language_info": {
   "codemirror_mode": {
    "name": "ipython",
    "version": 3
   },
   "file_extension": ".py",
   "mimetype": "text/x-python",
   "name": "python",
   "nbconvert_exporter": "python",
   "pygments_lexer": "ipython3",
   "version": "3.6.3"
  }
 },
 "nbformat": 4,
 "nbformat_minor": 2
}
