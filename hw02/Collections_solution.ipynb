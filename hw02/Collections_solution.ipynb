{
 "cells": [
  {
   "cell_type": "markdown",
   "metadata": {},
   "source": [
    "### Входные данные\n",
    "\n",
    "У вас имеется поток данных (генератор data_stream). Поля это случайные величины - так сделано для упрощения генерации данных. Есть три поля (названы по уровню сложности задания)\n",
    "\n",
    "### Задание\n",
    "##### Мотивация:\n",
    "У вас есть куча временных рядов, вы хотите научиться предсказывать следующее значение по 1000 предыдущим. 1000 признаков окна это слишком много, однако вы решили заменить их 5ю: средним, дисперсией, минимумом, медианой и максимумом. Однако, все эти признаки надо подсчитать, причём хочется уметь это делать быстро (в течение часа)\n",
    "##### Для каждого поля нужно сделать следующее:\n",
    "\n",
    "1. Пробежаться по данным окном размера 1000 (окно сдвигается на 1, то есть следующее окно пересекается с предыдущим по 999 элементам).\n",
    "\n",
    "2. Для каждого окна посчитайте среднее значение поля и его дисперсию. Делайте yield этих значений, получая генератор tuple. \n",
    "\n",
    "3. Для каждого окна найдине минимум, медиану и максимум в нём. Делайте yield этих значений, получая генератор tuple. \n",
    "\n",
    "Ответом, который нужно будет засабмитить в гугл форму, является среднее значение tuple по получившемуся потоку, округлённое до **2го знака**.\n",
    "\n",
    "### Замечания\n",
    "\n",
    "1. Обратите внимания как генерируются поля. Постарайтесь понять особенность каждого поля и как это можно использовать. Желательно, чтобы для каждого поля у вас было своё решение, максимально эффективно использующее знание об этом поле.\n",
    "2. Полезные библиотеки: itertools, numpy, collections + всё что найдёте в интернете и можно поставить через pip install\n",
    "3. **Медианой отсортированного массива arr считайте значение arr[len(arr) // 2]**\n",
    "\n",
    "\n",
    "\n",
    "Если измерять время работы функций временем работы функции example, то примерное время работы такое:\n",
    "Одновременно среднее, дисперсия - 1 минута\n",
    "Одновременно минимум, максимум и медиана:easy - 3 минуты\n",
    "medium - 6 минут\n",
    "nightmare - 6 минут\n"
   ]
  },
  {
   "cell_type": "markdown",
   "metadata": {},
   "source": [
    "#### Генерация данных"
   ]
  },
  {
   "cell_type": "code",
   "execution_count": 1,
   "metadata": {},
   "outputs": [],
   "source": [
    "from collections import namedtuple\n",
    "import random\n",
    "\n",
    "Record = namedtuple('Record', 'easy medium nightmare')\n",
    "\n",
    "def data_stream():\n",
    "    random_generator = random.Random(42)\n",
    "    easy = 0\n",
    "    for _ in range(10000000):\n",
    "        easy += random_generator.randint(0, 2) \n",
    "        medium = random_generator.randint(0, 256 - 1)\n",
    "        nightmare = random_generator.randint(0, 1000000000 - 1)\n",
    "        \n",
    "        yield Record(\n",
    "            easy=easy,\n",
    "            medium=medium,\n",
    "            nightmare=nightmare\n",
    "        )\n",
    "        \n",
    "def easy_stream():\n",
    "    for record in data_stream():\n",
    "        yield record.easy\n",
    "        \n",
    "def medium_stream():\n",
    "    for record in data_stream():\n",
    "        yield record.medium\n",
    "        \n",
    "def nightmare_stream():\n",
    "    for record in data_stream():\n",
    "        yield record.nightmare"
   ]
  },
  {
   "cell_type": "markdown",
   "metadata": {},
   "source": [
    "#### Подсчёт среднего значения tuple по потоку"
   ]
  },
  {
   "cell_type": "code",
   "execution_count": 2,
   "metadata": {},
   "outputs": [],
   "source": [
    "import numpy as np\n",
    "\n",
    "def get_tuple_stream_mean(stream, number_of_values):\n",
    "    result = np.zeros(number_of_values, dtype='object')\n",
    "    count = 0. \n",
    "    for streamed_tuple in stream:\n",
    "        result += streamed_tuple\n",
    "        count += 1\n",
    "    return ['{:0.2f}'.format(Decimal(x) / Decimal(count)) for x in result]"
   ]
  },
  {
   "cell_type": "markdown",
   "metadata": {},
   "source": [
    "#### Решение для среднего и дисперсии (общее для всех полей)\n",
    "\n",
    "Нужно пробегаться двумя указателями и обновлять счётчики.\n"
   ]
  },
  {
   "cell_type": "code",
   "execution_count": 3,
   "metadata": {},
   "outputs": [],
   "source": [
    "from itertools import tee\n",
    "from decimal import *\n",
    "\n",
    "\n",
    "getcontext().prec = 50\n",
    "\n",
    "\n",
    "def stream_window_mean_and_variance(stream, window_size):\n",
    "    windows_count = 0\n",
    "    total_sum = 0\n",
    "    total_squares_sum = 0\n",
    "    total_grouped_squares_sum = 0\n",
    "    \n",
    "    value_sum = 0\n",
    "    value_sq_sum = 0\n",
    "    it_begin, it_end = tee(stream)\n",
    "    \n",
    "    for _ in range(window_size):\n",
    "        value = next(it_end)\n",
    "        value_sum += value\n",
    "        value_sq_sum += value * value\n",
    "\n",
    "    try:\n",
    "        while True:\n",
    "            windows_count += 1\n",
    "            total_sum += value_sum\n",
    "            total_squares_sum += value_sq_sum\n",
    "            total_grouped_squares_sum += value_sum * value_sum\n",
    "\n",
    "            next_value = next(it_end)\n",
    "            prev_value = next(it_begin)\n",
    "            \n",
    "            value_sum += next_value\n",
    "            value_sq_sum += next_value * next_value\n",
    "\n",
    "            value_sum -= prev_value\n",
    "            value_sq_sum -= prev_value * prev_value\n",
    "    except StopIteration:\n",
    "        pass\n",
    "    \n",
    "    mean = Decimal(total_sum) / Decimal(window_size * windows_count)\n",
    "    var = Decimal(total_squares_sum) / Decimal(window_size * windows_count) - Decimal(total_grouped_squares_sum) / Decimal(window_size * window_size * windows_count)\n",
    "\n",
    "    return '{:0.2f}    {:0.2f}'.format(mean, var)\n"
   ]
  },
  {
   "cell_type": "code",
   "execution_count": 4,
   "metadata": {},
   "outputs": [
    {
     "name": "stdout",
     "output_type": "stream",
     "text": [
      "CPU times: user 1min 3s, sys: 4 ms, total: 1min 3s\n",
      "Wall time: 1min 3s\n"
     ]
    },
    {
     "data": {
      "text/plain": [
       "'4999675.28    83439.34'"
      ]
     },
     "execution_count": 4,
     "metadata": {},
     "output_type": "execute_result"
    }
   ],
   "source": [
    "%%time\n",
    "stream_window_mean_and_variance(easy_stream(), 1000)"
   ]
  },
  {
   "cell_type": "code",
   "execution_count": 5,
   "metadata": {},
   "outputs": [
    {
     "name": "stdout",
     "output_type": "stream",
     "text": [
      "CPU times: user 1min 2s, sys: 20 ms, total: 1min 2s\n",
      "Wall time: 1min 3s\n"
     ]
    },
    {
     "data": {
      "text/plain": [
       "'127.48    5455.17'"
      ]
     },
     "execution_count": 5,
     "metadata": {},
     "output_type": "execute_result"
    }
   ],
   "source": [
    "%%time\n",
    "stream_window_mean_and_variance(medium_stream(), 1000)"
   ]
  },
  {
   "cell_type": "code",
   "execution_count": 6,
   "metadata": {},
   "outputs": [
    {
     "name": "stdout",
     "output_type": "stream",
     "text": [
      "CPU times: user 1min 2s, sys: 8 ms, total: 1min 2s\n",
      "Wall time: 1min 2s\n"
     ]
    },
    {
     "data": {
      "text/plain": [
       "'499880345.88    83228908564031114.59'"
      ]
     },
     "execution_count": 6,
     "metadata": {},
     "output_type": "execute_result"
    }
   ],
   "source": [
    "%%time\n",
    "stream_window_mean_and_variance(nightmare_stream(), 1000)"
   ]
  },
  {
   "cell_type": "markdown",
   "metadata": {},
   "source": [
    "#### Решение для минимума, медианы и максимума для поля easy\n",
    "\n",
    "Это поле монотонно растёт в потоке. Поэтому достаточно просто хранить deque и соответствущие индексы из него. Можно поизвращаться и сделать три указателя itertool.tee (но это надо быть совсем фанатом).\n"
   ]
  },
  {
   "cell_type": "code",
   "execution_count": 7,
   "metadata": {},
   "outputs": [],
   "source": [
    "from collections import deque\n",
    "from itertools import islice\n",
    "\n",
    "def easy_stream_min_median_max(stream, window_size):\n",
    "    queue = deque()\n",
    "    for value in islice(stream, window_size):\n",
    "        queue.append(value)\n",
    "    \n",
    "    yield queue[0], queue[window_size // 2], queue[-1]\n",
    "    for value in stream:\n",
    "        queue.popleft()\n",
    "        queue.append(value)\n",
    "        yield queue[0], queue[window_size // 2], queue[-1]"
   ]
  },
  {
   "cell_type": "code",
   "execution_count": 8,
   "metadata": {},
   "outputs": [
    {
     "name": "stdout",
     "output_type": "stream",
     "text": [
      "CPU times: user 2min 41s, sys: 28 ms, total: 2min 41s\n",
      "Wall time: 2min 42s\n"
     ]
    },
    {
     "data": {
      "text/plain": [
       "['4999175.79', '4999675.78', '5000174.76']"
      ]
     },
     "execution_count": 8,
     "metadata": {},
     "output_type": "execute_result"
    }
   ],
   "source": [
    "%%time\n",
    "get_tuple_stream_mean(easy_stream_min_median_max(easy_stream(), 1000), 3)"
   ]
  },
  {
   "cell_type": "markdown",
   "metadata": {},
   "source": [
    "#### Решение для минимума, медианы и максимума для поля medium\n",
    "\n",
    "Это поле имеет очень мало значений в потоке. Поэтому можно хранить счётчики сколько каких значений мы наблюдали."
   ]
  },
  {
   "cell_type": "code",
   "execution_count": 9,
   "metadata": {},
   "outputs": [],
   "source": [
    "from itertools import tee\n",
    "from numpy import cumsum\n",
    "from numpy import searchsorted\n",
    "\n",
    "def medium_stream_min_median_max(stream, window_size):\n",
    "    values_counter = np.zeros(256)\n",
    "    mid_value = (window_size + 1) // 2\n",
    "    it_begin, it_end = tee(stream)\n",
    "    for _ in range(window_size):\n",
    "        values_counter[next(it_end)] += 1\n",
    "    try:\n",
    "        while True:\n",
    "            cum_values = cumsum(values_counter)\n",
    "            yield (\n",
    "                searchsorted(cum_values, 1, side='left'),\n",
    "                searchsorted(cum_values, mid_value, side='right'),\n",
    "                searchsorted(cum_values, window_size, side='left')\n",
    "            )\n",
    "\n",
    "            values_counter[next(it_end)] += 1\n",
    "            values_counter[next(it_begin)] -= 1\n",
    "    except StopIteration:\n",
    "        pass"
   ]
  },
  {
   "cell_type": "code",
   "execution_count": 10,
   "metadata": {},
   "outputs": [
    {
     "name": "stdout",
     "output_type": "stream",
     "text": [
      "CPU times: user 6min 23s, sys: 80 ms, total: 6min 23s\n",
      "Wall time: 6min 24s\n"
     ]
    },
    {
     "data": {
      "text/plain": [
       "['0.02', '127.60', '254.98']"
      ]
     },
     "execution_count": 10,
     "metadata": {},
     "output_type": "execute_result"
    }
   ],
   "source": [
    "%%time\n",
    "get_tuple_stream_mean(medium_stream_min_median_max(medium_stream(), 1000), 3)"
   ]
  },
  {
   "cell_type": "markdown",
   "metadata": {},
   "source": [
    "#### Решение для минимума, медианы и максимума для поля nightmare\n",
    "\n",
    "Это поле монотонно в общем виде. По сути надо повортить решение для easy, но надо найти дополнительную библиотеку."
   ]
  },
  {
   "cell_type": "code",
   "execution_count": 11,
   "metadata": {},
   "outputs": [],
   "source": [
    "from blist import sortedlist\n",
    "from itertools import islice\n",
    "\n",
    "def nightmare_stream_min_median_max(stream, window_size):\n",
    "    window = sortedlist()\n",
    "    it_begin, it_end = tee(stream)\n",
    "    for _ in range(window_size):\n",
    "        window.add(next(it_end))\n",
    "    try:\n",
    "        while True:\n",
    "            yield window[0], window[window_size // 2], window[-1]\n",
    "            window.add(next(it_end))\n",
    "            window.remove(next(it_begin))\n",
    "    except StopIteration:\n",
    "        pass"
   ]
  },
  {
   "cell_type": "code",
   "execution_count": 12,
   "metadata": {},
   "outputs": [
    {
     "name": "stdout",
     "output_type": "stream",
     "text": [
      "CPU times: user 6min 51s, sys: 16 ms, total: 6min 51s\n",
      "Wall time: 6min 52s\n"
     ]
    },
    {
     "data": {
      "text/plain": [
       "['1017512.29', '500438415.64', '999017359.97']"
      ]
     },
     "execution_count": 12,
     "metadata": {},
     "output_type": "execute_result"
    }
   ],
   "source": [
    "%%time\n",
    "get_tuple_stream_mean(nightmare_stream_min_median_max(nightmare_stream(), 1000), 3)"
   ]
  },
  {
   "cell_type": "code",
   "execution_count": 13,
   "metadata": {},
   "outputs": [
    {
     "name": "stdout",
     "output_type": "stream",
     "text": [
      "CPU times: user 6min 28s, sys: 28 ms, total: 6min 28s\n",
      "Wall time: 6min 28s\n"
     ]
    },
    {
     "data": {
      "text/plain": [
       "['0.02', '127.60', '254.98']"
      ]
     },
     "execution_count": 13,
     "metadata": {},
     "output_type": "execute_result"
    }
   ],
   "source": [
    "%%time\n",
    "get_tuple_stream_mean(nightmare_stream_min_median_max(medium_stream(), 1000), 3)"
   ]
  },
  {
   "cell_type": "code",
   "execution_count": 14,
   "metadata": {},
   "outputs": [
    {
     "name": "stdout",
     "output_type": "stream",
     "text": [
      "CPU times: user 6min 17s, sys: 12 ms, total: 6min 17s\n",
      "Wall time: 6min 18s\n"
     ]
    },
    {
     "data": {
      "text/plain": [
       "['4999175.79', '4999675.78', '5000174.76']"
      ]
     },
     "execution_count": 14,
     "metadata": {},
     "output_type": "execute_result"
    }
   ],
   "source": [
    "%%time\n",
    "get_tuple_stream_mean(nightmare_stream_min_median_max(easy_stream(), 1000), 3)"
   ]
  },
  {
   "cell_type": "code",
   "execution_count": null,
   "metadata": {},
   "outputs": [],
   "source": []
  }
 ],
 "metadata": {
  "kernelspec": {
   "display_name": "Python 3",
   "language": "python",
   "name": "python3"
  }
 },
 "nbformat": 4,
 "nbformat_minor": 1
}
